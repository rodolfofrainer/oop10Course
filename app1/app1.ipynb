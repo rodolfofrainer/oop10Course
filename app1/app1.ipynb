{
 "cells": [
  {
   "cell_type": "code",
   "execution_count": 22,
   "metadata": {},
   "outputs": [],
   "source": [
    "class Point:\n",
    "  def __init__(self,x,y):\n",
    "    self.x=x\n",
    "    self.y=y\n",
    "    \n",
    "  def falls_in_rectangle(self, rectangle):\n",
    "      if rectangle.low_left.x<self.x<rectangle.up_right.x \\\n",
    "          and rectangle.low_left.y<self.y<rectangle.up_right.y:\n",
    "          return True\n",
    "      else:\n",
    "          return False\n",
    "  \n",
    "  def distance_from_point(self, point):\n",
    "    return ((self.x-point.x)**2+\n",
    "            (self.y-point.y)**2)**.5\n",
    "\n",
    "class Rectangle:\n",
    "  def __init__(self, low_left, up_right):\n",
    "    self.low_left = low_left\n",
    "    self.up_right = up_right"
   ]
  },
  {
   "cell_type": "code",
   "execution_count": 23,
   "metadata": {},
   "outputs": [],
   "source": [
    "pointx = Point(6,7)"
   ]
  },
  {
   "cell_type": "code",
   "execution_count": 24,
   "metadata": {},
   "outputs": [],
   "source": [
    "rectanglex = Rectangle(Point(5,6), Point(7,9))"
   ]
  },
  {
   "cell_type": "code",
   "execution_count": 25,
   "metadata": {},
   "outputs": [
    {
     "data": {
      "text/plain": [
       "True"
      ]
     },
     "execution_count": 25,
     "metadata": {},
     "output_type": "execute_result"
    }
   ],
   "source": [
    "pointx.falls_in_rectangle(rectanglex)"
   ]
  },
  {
   "cell_type": "code",
   "execution_count": null,
   "metadata": {},
   "outputs": [],
   "source": []
  }
 ],
 "metadata": {
  "kernelspec": {
   "display_name": "Oop10Course",
   "language": "python",
   "name": "python3"
  },
  "language_info": {
   "codemirror_mode": {
    "name": "ipython",
    "version": 3
   },
   "file_extension": ".py",
   "mimetype": "text/x-python",
   "name": "python",
   "nbconvert_exporter": "python",
   "pygments_lexer": "ipython3",
   "version": "3.10.6"
  },
  "orig_nbformat": 4
 },
 "nbformat": 4,
 "nbformat_minor": 2
}
