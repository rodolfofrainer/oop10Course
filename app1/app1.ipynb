{
 "cells": [
  {
   "cell_type": "code",
   "execution_count": 55,
   "metadata": {},
   "outputs": [],
   "source": [
    "from random import randint\n",
    "\n",
    "class Point:\n",
    "  def __init__(self,x,y):\n",
    "    self.x=x\n",
    "    self.y=y\n",
    "    \n",
    "  def falls_in_rectangle(self, rectangle):\n",
    "      if rectangle.low_left.x<self.x<rectangle.up_right.x \\\n",
    "          and rectangle.low_left.y<self.y<rectangle.up_right.y:\n",
    "          return True\n",
    "      else:\n",
    "          return False\n",
    "  \n",
    "  def distance_from_point(self, point):\n",
    "    return ((self.x-point.x)**2+\n",
    "            (self.y-point.y)**2)**.5\n",
    "\n",
    "class Rectangle:\n",
    "  def __init__(self, low_left, up_right):\n",
    "    self.low_left = low_left\n",
    "    self.up_right = up_right\n",
    "  \n",
    "  def calculate_area(self):\n",
    "    return (self.up_right.x-self.low_left.x)*(self.up_right.y-self.low_left.y)"
   ]
  },
  {
   "cell_type": "code",
   "execution_count": 56,
   "metadata": {},
   "outputs": [
    {
     "data": {
      "text/plain": [
       "True"
      ]
     },
     "execution_count": 56,
     "metadata": {},
     "output_type": "execute_result"
    }
   ],
   "source": [
    "pointx = Point(6,7)\n",
    "rectanglex = Rectangle(Point(5,6), Point(7,9))\n",
    "pointx.falls_in_rectangle(rectanglex)"
   ]
  },
  {
   "cell_type": "code",
   "execution_count": 57,
   "metadata": {},
   "outputs": [
    {
     "name": "stdout",
     "output_type": "stream",
     "text": [
      "Rectangle Coord: 7, 3 and 14, 17\n"
     ]
    }
   ],
   "source": [
    "rectangle=Rectangle(Point(randint(0,9),randint(0,9)),\n",
    "                    Point(randint(10,19),randint(10,19)))\n",
    "print(f\"\"\"Rectangle Coord: {rectangle.low_left.x}, {rectangle.low_left.y} and \\\n",
    "{rectangle.up_right.x}, {rectangle.up_right.y}\"\"\")"
   ]
  },
  {
   "cell_type": "code",
   "execution_count": 58,
   "metadata": {},
   "outputs": [],
   "source": [
    "user_point = Point(float(input(\"Guess the x: \")),float(input('Guess the y: ')))"
   ]
  },
  {
   "cell_type": "code",
   "execution_count": 59,
   "metadata": {},
   "outputs": [
    {
     "name": "stdout",
     "output_type": "stream",
     "text": [
      "Was your point inside the rectangle? True\n"
     ]
    }
   ],
   "source": [
    "print(\"Was your point inside the rectangle?\", user_point.falls_in_rectangle(rectangle))"
   ]
  },
  {
   "cell_type": "code",
   "execution_count": 60,
   "metadata": {},
   "outputs": [
    {
     "data": {
      "text/plain": [
       "98"
      ]
     },
     "execution_count": 60,
     "metadata": {},
     "output_type": "execute_result"
    }
   ],
   "source": [
    "rectangle.calculate_area()"
   ]
  }
 ],
 "metadata": {
  "kernelspec": {
   "display_name": "Oop10Course",
   "language": "python",
   "name": "python3"
  },
  "language_info": {
   "codemirror_mode": {
    "name": "ipython",
    "version": 3
   },
   "file_extension": ".py",
   "mimetype": "text/x-python",
   "name": "python",
   "nbconvert_exporter": "python",
   "pygments_lexer": "ipython3",
   "version": "3.10.6"
  },
  "orig_nbformat": 4
 },
 "nbformat": 4,
 "nbformat_minor": 2
}
