{
 "cells": [
  {
   "cell_type": "code",
   "execution_count": 70,
   "metadata": {},
   "outputs": [],
   "source": [
    "from random import randint\n",
    "\n",
    "class Point:\n",
    "  def __init__(self,x,y):\n",
    "    self.x=x\n",
    "    self.y=y\n",
    "    \n",
    "  def falls_in_rectangle(self, rectangle):\n",
    "      if rectangle.point1.x<self.x<rectangle.point2.x \\\n",
    "          and rectangle.point1.y<self.y<rectangle.point2.y:\n",
    "          return True\n",
    "      else:\n",
    "          return False\n",
    "  \n",
    "  def distance_from_point(self, point):\n",
    "    return ((self.x-point.x)**2+\n",
    "            (self.y-point.y)**2)**.5\n",
    "\n",
    "class Rectangle:\n",
    "  def __init__(self, point1, point2):\n",
    "    self.point1 = point1\n",
    "    self.point2 = point2\n",
    "  \n",
    "  def calculate_area(self):\n",
    "    return (self.point2.x-self.point1.x)*(self.point2.y-self.point1.y)"
   ]
  },
  {
   "cell_type": "code",
   "execution_count": 71,
   "metadata": {},
   "outputs": [
    {
     "data": {
      "text/plain": [
       "True"
      ]
     },
     "execution_count": 71,
     "metadata": {},
     "output_type": "execute_result"
    }
   ],
   "source": [
    "pointx = Point(6,7)\n",
    "rectanglex = Rectangle(Point(5,6), Point(7,9))\n",
    "pointx.falls_in_rectangle(rectanglex)"
   ]
  },
  {
   "cell_type": "code",
   "execution_count": 72,
   "metadata": {},
   "outputs": [
    {
     "name": "stdout",
     "output_type": "stream",
     "text": [
      "Rectangle Coord: 1, 2 and 19, 13\n"
     ]
    }
   ],
   "source": [
    "rectangle=Rectangle(Point(randint(0,9),randint(0,9)),\n",
    "                    Point(randint(10,19),randint(10,19)))\n",
    "print(f\"\"\"Rectangle Coord: {rectangle.point1.x}, {rectangle.point1.y} and \\\n",
    "{rectangle.point2.x}, {rectangle.point2.y}\"\"\")"
   ]
  },
  {
   "cell_type": "code",
   "execution_count": 73,
   "metadata": {},
   "outputs": [],
   "source": [
    "user_point = Point(float(input(\"Guess the x: \")),float(input('Guess the y: ')))"
   ]
  },
  {
   "cell_type": "code",
   "execution_count": 74,
   "metadata": {},
   "outputs": [
    {
     "name": "stdout",
     "output_type": "stream",
     "text": [
      "Was your point inside the rectangle? True\n"
     ]
    }
   ],
   "source": [
    "print(\"Was your point inside the rectangle?\", user_point.falls_in_rectangle(rectangle))"
   ]
  },
  {
   "cell_type": "code",
   "execution_count": 75,
   "metadata": {},
   "outputs": [
    {
     "data": {
      "text/plain": [
       "198"
      ]
     },
     "execution_count": 75,
     "metadata": {},
     "output_type": "execute_result"
    }
   ],
   "source": [
    "rectangle.calculate_area()"
   ]
  }
 ],
 "metadata": {
  "kernelspec": {
   "display_name": "Oop10Course",
   "language": "python",
   "name": "python3"
  },
  "language_info": {
   "codemirror_mode": {
    "name": "ipython",
    "version": 3
   },
   "file_extension": ".py",
   "mimetype": "text/x-python",
   "name": "python",
   "nbconvert_exporter": "python",
   "pygments_lexer": "ipython3",
   "version": "3.10.6"
  },
  "orig_nbformat": 4
 },
 "nbformat": 4,
 "nbformat_minor": 2
}
